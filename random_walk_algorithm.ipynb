{
 "cells": [
  {
   "attachments": {},
   "cell_type": "markdown",
   "metadata": {},
   "source": [
    "### Importing Libraries"
   ]
  },
  {
   "cell_type": "code",
   "execution_count": 1,
   "metadata": {},
   "outputs": [],
   "source": [
    "import numpy as np\n",
    "import pandas as pd\n",
    "import pandas_datareader as pdr\n",
    "from datetime import datetime as dt\n",
    "import matplotlib.pyplot as plt\n",
    "import networkx as nx"
   ]
  },
  {
   "cell_type": "code",
   "execution_count": 2,
   "metadata": {},
   "outputs": [],
   "source": [
    "import yfinance as yf\n",
    "yf.pdr_override()\n",
    "from pandas_datareader import data as wb"
   ]
  },
  {
   "cell_type": "code",
   "execution_count": 3,
   "metadata": {},
   "outputs": [],
   "source": [
    "import seaborn as sns\n",
    "import matplotlib.pyplot as plt"
   ]
  },
  {
   "cell_type": "code",
   "execution_count": 4,
   "metadata": {},
   "outputs": [],
   "source": [
    "#Symbols of the stocks selected for the scope of this study\n",
    "Symbols = ['AAPL','ADBE','ADI','ADP','ADSK','AEP','ALGN','AMAT',\n",
    "           'AMD','AMGN','AMZN','ANSS','ASML','ATVI','AVGO','BIDU',\n",
    "           'BIIB','BKNG','CDNS','CDW','CHKP','CHTR','CMCSA',\n",
    "           'COST','CPRT','CRWD','CSCO','CSX','CTAS','CTSH','DLTR',\n",
    "           'DOCU','DXCM','EA','EBAY','EXC','FAST','FISV','FOX',\n",
    "           'FOXA','GILD','GOOG','GOOGL','HON','IDXX','ILMN','INCY',\n",
    "           'INTC','INTU','ISRG','JD','KDP','KHC','KLAC','LRCX','LULU',\n",
    "           'MAR','MCHP','MDLZ','MELI','MNST','MRNA','MRVL','MSFT',\n",
    "           'MTCH','MU','NFLX','NVDA','NXPI','OKTA','ORLY',\n",
    "           'PAYX','PCAR','PDD','PEP','PTON','PYPL','QCOM','REGN',\n",
    "           'ROST','SBUX','SGEN','SIRI','SNPS','SPLK','SWKS','TCOM',\n",
    "           'TEAM','TMUS','TSLA','TXN','VRSK','VRSN','VRTX','WBA',\n",
    "           'WDAY','XEL','ZM']"
   ]
  },
  {
   "cell_type": "code",
   "execution_count": 5,
   "metadata": {},
   "outputs": [
    {
     "name": "stdout",
     "output_type": "stream",
     "text": [
      "[*********************100%***********************]  1 of 1 completed\n",
      "[*********************100%***********************]  1 of 1 completed\n",
      "[*********************100%***********************]  1 of 1 completed\n",
      "[*********************100%***********************]  1 of 1 completed\n",
      "[*********************100%***********************]  1 of 1 completed\n",
      "[*********************100%***********************]  1 of 1 completed\n",
      "[*********************100%***********************]  1 of 1 completed\n",
      "[*********************100%***********************]  1 of 1 completed\n",
      "[*********************100%***********************]  1 of 1 completed\n",
      "[*********************100%***********************]  1 of 1 completed\n",
      "[*********************100%***********************]  1 of 1 completed\n",
      "[*********************100%***********************]  1 of 1 completed\n",
      "[*********************100%***********************]  1 of 1 completed\n",
      "[*********************100%***********************]  1 of 1 completed\n",
      "[*********************100%***********************]  1 of 1 completed\n",
      "[*********************100%***********************]  1 of 1 completed\n",
      "[*********************100%***********************]  1 of 1 completed\n",
      "[*********************100%***********************]  1 of 1 completed\n",
      "[*********************100%***********************]  1 of 1 completed\n",
      "[*********************100%***********************]  1 of 1 completed\n",
      "[*********************100%***********************]  1 of 1 completed\n",
      "[*********************100%***********************]  1 of 1 completed\n",
      "[*********************100%***********************]  1 of 1 completed\n",
      "[*********************100%***********************]  1 of 1 completed\n",
      "[*********************100%***********************]  1 of 1 completed\n",
      "[*********************100%***********************]  1 of 1 completed\n",
      "[*********************100%***********************]  1 of 1 completed\n",
      "[*********************100%***********************]  1 of 1 completed\n",
      "[*********************100%***********************]  1 of 1 completed\n",
      "[*********************100%***********************]  1 of 1 completed\n",
      "[*********************100%***********************]  1 of 1 completed\n",
      "[*********************100%***********************]  1 of 1 completed\n",
      "[*********************100%***********************]  1 of 1 completed\n",
      "[*********************100%***********************]  1 of 1 completed\n",
      "[*********************100%***********************]  1 of 1 completed\n",
      "[*********************100%***********************]  1 of 1 completed\n",
      "[*********************100%***********************]  1 of 1 completed\n",
      "[*********************100%***********************]  1 of 1 completed\n",
      "[*********************100%***********************]  1 of 1 completed\n",
      "[*********************100%***********************]  1 of 1 completed\n",
      "[*********************100%***********************]  1 of 1 completed\n",
      "[*********************100%***********************]  1 of 1 completed\n",
      "[*********************100%***********************]  1 of 1 completed\n",
      "[*********************100%***********************]  1 of 1 completed\n",
      "[*********************100%***********************]  1 of 1 completed\n",
      "[*********************100%***********************]  1 of 1 completed\n",
      "[*********************100%***********************]  1 of 1 completed\n",
      "[*********************100%***********************]  1 of 1 completed\n",
      "[*********************100%***********************]  1 of 1 completed\n",
      "[*********************100%***********************]  1 of 1 completed\n",
      "[*********************100%***********************]  1 of 1 completed\n",
      "[*********************100%***********************]  1 of 1 completed\n",
      "[*********************100%***********************]  1 of 1 completed\n",
      "[*********************100%***********************]  1 of 1 completed\n",
      "[*********************100%***********************]  1 of 1 completed\n",
      "[*********************100%***********************]  1 of 1 completed\n",
      "[*********************100%***********************]  1 of 1 completed\n",
      "[*********************100%***********************]  1 of 1 completed\n",
      "[*********************100%***********************]  1 of 1 completed\n",
      "[*********************100%***********************]  1 of 1 completed\n",
      "[*********************100%***********************]  1 of 1 completed\n",
      "[*********************100%***********************]  1 of 1 completed\n",
      "[*********************100%***********************]  1 of 1 completed\n",
      "[*********************100%***********************]  1 of 1 completed\n",
      "[*********************100%***********************]  1 of 1 completed\n",
      "[*********************100%***********************]  1 of 1 completed\n",
      "[*********************100%***********************]  1 of 1 completed\n",
      "[*********************100%***********************]  1 of 1 completed\n",
      "[*********************100%***********************]  1 of 1 completed\n",
      "[*********************100%***********************]  1 of 1 completed\n",
      "[*********************100%***********************]  1 of 1 completed\n",
      "[*********************100%***********************]  1 of 1 completed\n",
      "[*********************100%***********************]  1 of 1 completed\n",
      "[*********************100%***********************]  1 of 1 completed\n",
      "[*********************100%***********************]  1 of 1 completed\n",
      "[*********************100%***********************]  1 of 1 completed\n",
      "[*********************100%***********************]  1 of 1 completed\n",
      "[*********************100%***********************]  1 of 1 completed\n",
      "[*********************100%***********************]  1 of 1 completed\n",
      "[*********************100%***********************]  1 of 1 completed\n",
      "[*********************100%***********************]  1 of 1 completed\n",
      "[*********************100%***********************]  1 of 1 completed\n",
      "[*********************100%***********************]  1 of 1 completed\n",
      "[*********************100%***********************]  1 of 1 completed\n",
      "[*********************100%***********************]  1 of 1 completed\n",
      "[*********************100%***********************]  1 of 1 completed\n",
      "[*********************100%***********************]  1 of 1 completed\n",
      "[*********************100%***********************]  1 of 1 completed\n",
      "[*********************100%***********************]  1 of 1 completed\n",
      "[*********************100%***********************]  1 of 1 completed\n",
      "[*********************100%***********************]  1 of 1 completed\n",
      "[*********************100%***********************]  1 of 1 completed\n",
      "[*********************100%***********************]  1 of 1 completed\n",
      "[*********************100%***********************]  1 of 1 completed\n",
      "[*********************100%***********************]  1 of 1 completed\n",
      "[*********************100%***********************]  1 of 1 completed\n",
      "[*********************100%***********************]  1 of 1 completed\n",
      "[*********************100%***********************]  1 of 1 completed\n"
     ]
    }
   ],
   "source": [
    "#importing daily stock price data\n",
    "dict_close = {}\n",
    "for i in Symbols:\n",
    "    dict_close[i] = list(wb.DataReader(i, start='2021-4-1', end='2022-3-31')['Close'])"
   ]
  },
  {
   "cell_type": "code",
   "execution_count": 6,
   "metadata": {},
   "outputs": [],
   "source": [
    "#checking for the missing data\n",
    "for i in dict_close:\n",
    "    if len(dict_close[i]) != 252:\n",
    "        print(i)\n",
    "        print('error')"
   ]
  },
  {
   "cell_type": "code",
   "execution_count": 7,
   "metadata": {},
   "outputs": [
    {
     "data": {
      "text/html": [
       "<div>\n",
       "<style scoped>\n",
       "    .dataframe tbody tr th:only-of-type {\n",
       "        vertical-align: middle;\n",
       "    }\n",
       "\n",
       "    .dataframe tbody tr th {\n",
       "        vertical-align: top;\n",
       "    }\n",
       "\n",
       "    .dataframe thead th {\n",
       "        text-align: right;\n",
       "    }\n",
       "</style>\n",
       "<table border=\"1\" class=\"dataframe\">\n",
       "  <thead>\n",
       "    <tr style=\"text-align: right;\">\n",
       "      <th></th>\n",
       "      <th>AAPL</th>\n",
       "      <th>ADBE</th>\n",
       "      <th>ADI</th>\n",
       "      <th>ADP</th>\n",
       "      <th>ADSK</th>\n",
       "      <th>AEP</th>\n",
       "      <th>ALGN</th>\n",
       "      <th>AMAT</th>\n",
       "      <th>AMD</th>\n",
       "      <th>AMGN</th>\n",
       "      <th>...</th>\n",
       "      <th>TMUS</th>\n",
       "      <th>TSLA</th>\n",
       "      <th>TXN</th>\n",
       "      <th>VRSK</th>\n",
       "      <th>VRSN</th>\n",
       "      <th>VRTX</th>\n",
       "      <th>WBA</th>\n",
       "      <th>WDAY</th>\n",
       "      <th>XEL</th>\n",
       "      <th>ZM</th>\n",
       "    </tr>\n",
       "  </thead>\n",
       "  <tbody>\n",
       "    <tr>\n",
       "      <th>0</th>\n",
       "      <td>123.000000</td>\n",
       "      <td>483.339996</td>\n",
       "      <td>160.380005</td>\n",
       "      <td>189.399994</td>\n",
       "      <td>283.899994</td>\n",
       "      <td>85.540001</td>\n",
       "      <td>545.049988</td>\n",
       "      <td>141.520004</td>\n",
       "      <td>81.089996</td>\n",
       "      <td>249.169998</td>\n",
       "      <td>...</td>\n",
       "      <td>127.650002</td>\n",
       "      <td>220.583328</td>\n",
       "      <td>192.059998</td>\n",
       "      <td>179.809998</td>\n",
       "      <td>201.899994</td>\n",
       "      <td>213.039993</td>\n",
       "      <td>54.750000</td>\n",
       "      <td>254.970001</td>\n",
       "      <td>66.790001</td>\n",
       "      <td>326.230011</td>\n",
       "    </tr>\n",
       "    <tr>\n",
       "      <th>1</th>\n",
       "      <td>125.900002</td>\n",
       "      <td>491.619995</td>\n",
       "      <td>163.490005</td>\n",
       "      <td>193.070007</td>\n",
       "      <td>288.320007</td>\n",
       "      <td>86.290001</td>\n",
       "      <td>547.940002</td>\n",
       "      <td>143.050003</td>\n",
       "      <td>81.430000</td>\n",
       "      <td>252.020004</td>\n",
       "      <td>...</td>\n",
       "      <td>131.399994</td>\n",
       "      <td>230.350006</td>\n",
       "      <td>196.929993</td>\n",
       "      <td>181.550003</td>\n",
       "      <td>206.179993</td>\n",
       "      <td>215.320007</td>\n",
       "      <td>56.799999</td>\n",
       "      <td>255.000000</td>\n",
       "      <td>68.110001</td>\n",
       "      <td>323.959991</td>\n",
       "    </tr>\n",
       "    <tr>\n",
       "      <th>2</th>\n",
       "      <td>126.209999</td>\n",
       "      <td>491.339996</td>\n",
       "      <td>161.710007</td>\n",
       "      <td>189.410004</td>\n",
       "      <td>285.500000</td>\n",
       "      <td>86.769997</td>\n",
       "      <td>553.840027</td>\n",
       "      <td>139.539993</td>\n",
       "      <td>81.440002</td>\n",
       "      <td>249.100006</td>\n",
       "      <td>...</td>\n",
       "      <td>131.429993</td>\n",
       "      <td>230.539993</td>\n",
       "      <td>194.589996</td>\n",
       "      <td>180.889999</td>\n",
       "      <td>205.580002</td>\n",
       "      <td>215.300003</td>\n",
       "      <td>55.700001</td>\n",
       "      <td>254.899994</td>\n",
       "      <td>68.160004</td>\n",
       "      <td>329.790009</td>\n",
       "    </tr>\n",
       "    <tr>\n",
       "      <th>3</th>\n",
       "      <td>127.900002</td>\n",
       "      <td>493.410004</td>\n",
       "      <td>159.449997</td>\n",
       "      <td>185.809998</td>\n",
       "      <td>286.119995</td>\n",
       "      <td>86.690002</td>\n",
       "      <td>552.559998</td>\n",
       "      <td>139.139999</td>\n",
       "      <td>82.199997</td>\n",
       "      <td>248.119995</td>\n",
       "      <td>...</td>\n",
       "      <td>130.020004</td>\n",
       "      <td>223.656662</td>\n",
       "      <td>193.089996</td>\n",
       "      <td>179.990005</td>\n",
       "      <td>204.369995</td>\n",
       "      <td>212.720001</td>\n",
       "      <td>55.580002</td>\n",
       "      <td>251.929993</td>\n",
       "      <td>68.050003</td>\n",
       "      <td>323.079987</td>\n",
       "    </tr>\n",
       "    <tr>\n",
       "      <th>4</th>\n",
       "      <td>130.360001</td>\n",
       "      <td>499.839996</td>\n",
       "      <td>162.119995</td>\n",
       "      <td>188.199997</td>\n",
       "      <td>293.429993</td>\n",
       "      <td>86.070000</td>\n",
       "      <td>575.750000</td>\n",
       "      <td>139.350006</td>\n",
       "      <td>83.349998</td>\n",
       "      <td>246.880005</td>\n",
       "      <td>...</td>\n",
       "      <td>130.110001</td>\n",
       "      <td>227.933334</td>\n",
       "      <td>195.199997</td>\n",
       "      <td>181.210007</td>\n",
       "      <td>204.740005</td>\n",
       "      <td>210.279999</td>\n",
       "      <td>54.790001</td>\n",
       "      <td>257.040009</td>\n",
       "      <td>67.720001</td>\n",
       "      <td>331.279999</td>\n",
       "    </tr>\n",
       "    <tr>\n",
       "      <th>...</th>\n",
       "      <td>...</td>\n",
       "      <td>...</td>\n",
       "      <td>...</td>\n",
       "      <td>...</td>\n",
       "      <td>...</td>\n",
       "      <td>...</td>\n",
       "      <td>...</td>\n",
       "      <td>...</td>\n",
       "      <td>...</td>\n",
       "      <td>...</td>\n",
       "      <td>...</td>\n",
       "      <td>...</td>\n",
       "      <td>...</td>\n",
       "      <td>...</td>\n",
       "      <td>...</td>\n",
       "      <td>...</td>\n",
       "      <td>...</td>\n",
       "      <td>...</td>\n",
       "      <td>...</td>\n",
       "      <td>...</td>\n",
       "      <td>...</td>\n",
       "    </tr>\n",
       "    <tr>\n",
       "      <th>247</th>\n",
       "      <td>174.070007</td>\n",
       "      <td>432.140015</td>\n",
       "      <td>164.960007</td>\n",
       "      <td>216.949997</td>\n",
       "      <td>213.050003</td>\n",
       "      <td>96.440002</td>\n",
       "      <td>436.260010</td>\n",
       "      <td>138.589996</td>\n",
       "      <td>120.529999</td>\n",
       "      <td>236.869995</td>\n",
       "      <td>...</td>\n",
       "      <td>125.690002</td>\n",
       "      <td>337.973328</td>\n",
       "      <td>184.210007</td>\n",
       "      <td>208.240005</td>\n",
       "      <td>215.110001</td>\n",
       "      <td>251.699997</td>\n",
       "      <td>47.020000</td>\n",
       "      <td>241.229996</td>\n",
       "      <td>69.879997</td>\n",
       "      <td>117.750000</td>\n",
       "    </tr>\n",
       "    <tr>\n",
       "      <th>248</th>\n",
       "      <td>174.720001</td>\n",
       "      <td>431.619995</td>\n",
       "      <td>165.630005</td>\n",
       "      <td>219.039993</td>\n",
       "      <td>212.139999</td>\n",
       "      <td>96.839996</td>\n",
       "      <td>430.440002</td>\n",
       "      <td>137.059998</td>\n",
       "      <td>119.669998</td>\n",
       "      <td>238.789993</td>\n",
       "      <td>...</td>\n",
       "      <td>124.290001</td>\n",
       "      <td>336.880005</td>\n",
       "      <td>184.899994</td>\n",
       "      <td>208.000000</td>\n",
       "      <td>215.750000</td>\n",
       "      <td>253.949997</td>\n",
       "      <td>47.119999</td>\n",
       "      <td>238.089996</td>\n",
       "      <td>70.699997</td>\n",
       "      <td>113.930000</td>\n",
       "    </tr>\n",
       "    <tr>\n",
       "      <th>249</th>\n",
       "      <td>175.600006</td>\n",
       "      <td>450.010010</td>\n",
       "      <td>167.259995</td>\n",
       "      <td>220.649994</td>\n",
       "      <td>215.410004</td>\n",
       "      <td>97.610001</td>\n",
       "      <td>434.000000</td>\n",
       "      <td>137.660004</td>\n",
       "      <td>120.239998</td>\n",
       "      <td>240.470001</td>\n",
       "      <td>...</td>\n",
       "      <td>126.489998</td>\n",
       "      <td>363.946655</td>\n",
       "      <td>185.679993</td>\n",
       "      <td>211.600006</td>\n",
       "      <td>219.740005</td>\n",
       "      <td>255.720001</td>\n",
       "      <td>47.189999</td>\n",
       "      <td>244.229996</td>\n",
       "      <td>71.239998</td>\n",
       "      <td>117.449997</td>\n",
       "    </tr>\n",
       "    <tr>\n",
       "      <th>250</th>\n",
       "      <td>178.960007</td>\n",
       "      <td>466.329987</td>\n",
       "      <td>170.179993</td>\n",
       "      <td>224.949997</td>\n",
       "      <td>223.000000</td>\n",
       "      <td>98.690002</td>\n",
       "      <td>452.940002</td>\n",
       "      <td>141.440002</td>\n",
       "      <td>123.230003</td>\n",
       "      <td>241.539993</td>\n",
       "      <td>...</td>\n",
       "      <td>128.429993</td>\n",
       "      <td>366.523346</td>\n",
       "      <td>191.009995</td>\n",
       "      <td>214.800003</td>\n",
       "      <td>221.300003</td>\n",
       "      <td>257.980011</td>\n",
       "      <td>47.820000</td>\n",
       "      <td>246.259995</td>\n",
       "      <td>71.830002</td>\n",
       "      <td>126.260002</td>\n",
       "    </tr>\n",
       "    <tr>\n",
       "      <th>251</th>\n",
       "      <td>177.770004</td>\n",
       "      <td>460.059998</td>\n",
       "      <td>166.479996</td>\n",
       "      <td>227.759995</td>\n",
       "      <td>221.000000</td>\n",
       "      <td>99.419998</td>\n",
       "      <td>442.170013</td>\n",
       "      <td>135.800003</td>\n",
       "      <td>119.220001</td>\n",
       "      <td>242.570007</td>\n",
       "      <td>...</td>\n",
       "      <td>128.610001</td>\n",
       "      <td>364.663330</td>\n",
       "      <td>187.449997</td>\n",
       "      <td>216.970001</td>\n",
       "      <td>222.119995</td>\n",
       "      <td>256.519989</td>\n",
       "      <td>47.459999</td>\n",
       "      <td>241.559998</td>\n",
       "      <td>72.320000</td>\n",
       "      <td>122.389999</td>\n",
       "    </tr>\n",
       "  </tbody>\n",
       "</table>\n",
       "<p>252 rows × 98 columns</p>\n",
       "</div>"
      ],
      "text/plain": [
       "           AAPL        ADBE         ADI         ADP        ADSK        AEP  \\\n",
       "0    123.000000  483.339996  160.380005  189.399994  283.899994  85.540001   \n",
       "1    125.900002  491.619995  163.490005  193.070007  288.320007  86.290001   \n",
       "2    126.209999  491.339996  161.710007  189.410004  285.500000  86.769997   \n",
       "3    127.900002  493.410004  159.449997  185.809998  286.119995  86.690002   \n",
       "4    130.360001  499.839996  162.119995  188.199997  293.429993  86.070000   \n",
       "..          ...         ...         ...         ...         ...        ...   \n",
       "247  174.070007  432.140015  164.960007  216.949997  213.050003  96.440002   \n",
       "248  174.720001  431.619995  165.630005  219.039993  212.139999  96.839996   \n",
       "249  175.600006  450.010010  167.259995  220.649994  215.410004  97.610001   \n",
       "250  178.960007  466.329987  170.179993  224.949997  223.000000  98.690002   \n",
       "251  177.770004  460.059998  166.479996  227.759995  221.000000  99.419998   \n",
       "\n",
       "           ALGN        AMAT         AMD        AMGN  ...        TMUS  \\\n",
       "0    545.049988  141.520004   81.089996  249.169998  ...  127.650002   \n",
       "1    547.940002  143.050003   81.430000  252.020004  ...  131.399994   \n",
       "2    553.840027  139.539993   81.440002  249.100006  ...  131.429993   \n",
       "3    552.559998  139.139999   82.199997  248.119995  ...  130.020004   \n",
       "4    575.750000  139.350006   83.349998  246.880005  ...  130.110001   \n",
       "..          ...         ...         ...         ...  ...         ...   \n",
       "247  436.260010  138.589996  120.529999  236.869995  ...  125.690002   \n",
       "248  430.440002  137.059998  119.669998  238.789993  ...  124.290001   \n",
       "249  434.000000  137.660004  120.239998  240.470001  ...  126.489998   \n",
       "250  452.940002  141.440002  123.230003  241.539993  ...  128.429993   \n",
       "251  442.170013  135.800003  119.220001  242.570007  ...  128.610001   \n",
       "\n",
       "           TSLA         TXN        VRSK        VRSN        VRTX        WBA  \\\n",
       "0    220.583328  192.059998  179.809998  201.899994  213.039993  54.750000   \n",
       "1    230.350006  196.929993  181.550003  206.179993  215.320007  56.799999   \n",
       "2    230.539993  194.589996  180.889999  205.580002  215.300003  55.700001   \n",
       "3    223.656662  193.089996  179.990005  204.369995  212.720001  55.580002   \n",
       "4    227.933334  195.199997  181.210007  204.740005  210.279999  54.790001   \n",
       "..          ...         ...         ...         ...         ...        ...   \n",
       "247  337.973328  184.210007  208.240005  215.110001  251.699997  47.020000   \n",
       "248  336.880005  184.899994  208.000000  215.750000  253.949997  47.119999   \n",
       "249  363.946655  185.679993  211.600006  219.740005  255.720001  47.189999   \n",
       "250  366.523346  191.009995  214.800003  221.300003  257.980011  47.820000   \n",
       "251  364.663330  187.449997  216.970001  222.119995  256.519989  47.459999   \n",
       "\n",
       "           WDAY        XEL          ZM  \n",
       "0    254.970001  66.790001  326.230011  \n",
       "1    255.000000  68.110001  323.959991  \n",
       "2    254.899994  68.160004  329.790009  \n",
       "3    251.929993  68.050003  323.079987  \n",
       "4    257.040009  67.720001  331.279999  \n",
       "..          ...        ...         ...  \n",
       "247  241.229996  69.879997  117.750000  \n",
       "248  238.089996  70.699997  113.930000  \n",
       "249  244.229996  71.239998  117.449997  \n",
       "250  246.259995  71.830002  126.260002  \n",
       "251  241.559998  72.320000  122.389999  \n",
       "\n",
       "[252 rows x 98 columns]"
      ]
     },
     "execution_count": 7,
     "metadata": {},
     "output_type": "execute_result"
    }
   ],
   "source": [
    "df = pd.DataFrame(dict_close)\n",
    "df"
   ]
  },
  {
   "attachments": {},
   "cell_type": "markdown",
   "metadata": {},
   "source": [
    "### Finding log difference"
   ]
  },
  {
   "cell_type": "code",
   "execution_count": 8,
   "metadata": {},
   "outputs": [],
   "source": [
    "log_r_df = np.log(df/df.shift(1))\n",
    "log_r_df = log_r_df.drop(0)"
   ]
  },
  {
   "attachments": {},
   "cell_type": "markdown",
   "metadata": {},
   "source": [
    "### Pearson Correlation"
   ]
  },
  {
   "cell_type": "code",
   "execution_count": 9,
   "metadata": {},
   "outputs": [
    {
     "data": {
      "text/plain": [
       "matrix([[ 1.        ,  0.59693069,  0.57562203, ...,  0.48036194,\n",
       "          0.13258529,  0.34449721],\n",
       "        [ 0.59693069,  1.        ,  0.55686482, ...,  0.61343376,\n",
       "          0.04730912,  0.47321524],\n",
       "        [ 0.57562203,  0.55686482,  1.        , ...,  0.47097809,\n",
       "          0.03062469,  0.36739032],\n",
       "        ...,\n",
       "        [ 0.48036194,  0.61343376,  0.47097809, ...,  1.        ,\n",
       "         -0.03722703,  0.45528112],\n",
       "        [ 0.13258529,  0.04730912,  0.03062469, ..., -0.03722703,\n",
       "          1.        , -0.08311229],\n",
       "        [ 0.34449721,  0.47321524,  0.36739032, ...,  0.45528112,\n",
       "         -0.08311229,  1.        ]])"
      ]
     },
     "execution_count": 9,
     "metadata": {},
     "output_type": "execute_result"
    }
   ],
   "source": [
    "corr_mat_pearson = np.matrix(log_r_df.corr(method='pearson'))\n",
    "corr_mat_pearson"
   ]
  },
  {
   "attachments": {},
   "cell_type": "markdown",
   "metadata": {},
   "source": [
    "### Spearman correlation"
   ]
  },
  {
   "cell_type": "code",
   "execution_count": 10,
   "metadata": {},
   "outputs": [
    {
     "data": {
      "text/plain": [
       "matrix([[ 1.        ,  0.62766686,  0.56306811, ...,  0.46214001,\n",
       "          0.13175036,  0.38358793],\n",
       "        [ 0.62766686,  1.        ,  0.53045874, ...,  0.70973933,\n",
       "          0.06355759,  0.56321761],\n",
       "        [ 0.56306811,  0.53045874,  1.        , ...,  0.44400607,\n",
       "          0.00671144,  0.36100474],\n",
       "        ...,\n",
       "        [ 0.46214001,  0.70973933,  0.44400607, ...,  1.        ,\n",
       "         -0.06360047,  0.54941377],\n",
       "        [ 0.13175036,  0.06355759,  0.00671144, ..., -0.06360047,\n",
       "          1.        , -0.10108938],\n",
       "        [ 0.38358793,  0.56321761,  0.36100474, ...,  0.54941377,\n",
       "         -0.10108938,  1.        ]])"
      ]
     },
     "execution_count": 10,
     "metadata": {},
     "output_type": "execute_result"
    }
   ],
   "source": [
    "corr_mat_spearman = np.matrix(log_r_df.corr(method='spearman'))\n",
    "corr_mat_spearman"
   ]
  },
  {
   "attachments": {},
   "cell_type": "markdown",
   "metadata": {},
   "source": [
    "### Kendall Tau correlation"
   ]
  },
  {
   "cell_type": "code",
   "execution_count": 11,
   "metadata": {},
   "outputs": [
    {
     "data": {
      "text/plain": [
       "matrix([[ 1.        ,  0.45893227,  0.40251793, ...,  0.32589641,\n",
       "          0.09122058,  0.26807968],\n",
       "        [ 0.45893227,  1.        ,  0.37485259, ...,  0.51636653,\n",
       "          0.04302857,  0.39760956],\n",
       "        [ 0.40251793,  0.37485259,  1.        , ...,  0.31996813,\n",
       "          0.00643835,  0.2492749 ],\n",
       "        ...,\n",
       "        [ 0.32589641,  0.51636653,  0.31996813, ...,  1.        ,\n",
       "         -0.04079746,  0.38683665],\n",
       "        [ 0.09122058,  0.04302857,  0.00643835, ..., -0.04079746,\n",
       "          1.        , -0.06737956],\n",
       "        [ 0.26807968,  0.39760956,  0.2492749 , ...,  0.38683665,\n",
       "         -0.06737956,  1.        ]])"
      ]
     },
     "execution_count": 11,
     "metadata": {},
     "output_type": "execute_result"
    }
   ],
   "source": [
    "corr_mat_kt = np.matrix(log_r_df.corr(method='kendall'))\n",
    "corr_mat_kt"
   ]
  },
  {
   "attachments": {},
   "cell_type": "markdown",
   "metadata": {},
   "source": [
    "### Grey relational"
   ]
  },
  {
   "cell_type": "code",
   "execution_count": 12,
   "metadata": {},
   "outputs": [],
   "source": [
    "x = np.matrix(df)\n",
    "n = x.shape[0]\n",
    "x_min = np.repeat(x.min(0),repeats=n, axis=0)\n",
    "x_max = np.repeat(x.max(0),repeats=n, axis=0)"
   ]
  },
  {
   "cell_type": "code",
   "execution_count": 13,
   "metadata": {},
   "outputs": [],
   "source": [
    "x_dash = (x-x_min)/(x_max-x_min)\n"
   ]
  },
  {
   "cell_type": "code",
   "execution_count": 14,
   "metadata": {},
   "outputs": [],
   "source": [
    "def delta(j):\n",
    "    return np.abs(x-x[:,j])\n",
    "\n",
    "def grey_corr(i,j):\n",
    "    d = delta(j)\n",
    "    eta = (np.min(d.min(0))+0.5*np.max(d.max(0)))/(d[:,i]+0.5*np.max(d.max(0)))\n",
    "    return np.average(eta)\n",
    "\n"
   ]
  },
  {
   "cell_type": "code",
   "execution_count": 15,
   "metadata": {},
   "outputs": [],
   "source": [
    "grey_corr_mat = np.zeros((x.shape[1],x.shape[1]))\n",
    "for i in range(x.shape[1]):\n",
    "    for j in range(x.shape[1]):\n",
    "        grey_corr_mat[i,j] = np.round(grey_corr(i,j),2)"
   ]
  },
  {
   "cell_type": "code",
   "execution_count": 16,
   "metadata": {},
   "outputs": [
    {
     "data": {
      "text/plain": [
       "array([[1.  , 0.73, 0.98, ..., 0.93, 0.94, 0.91],\n",
       "       [0.76, 1.  , 0.76, ..., 0.8 , 0.73, 0.81],\n",
       "       [0.98, 0.74, 1.  , ..., 0.94, 0.93, 0.93],\n",
       "       ...,\n",
       "       [0.93, 0.78, 0.94, ..., 1.  , 0.88, 0.94],\n",
       "       [0.94, 0.69, 0.93, ..., 0.87, 1.  , 0.87],\n",
       "       [0.91, 0.79, 0.92, ..., 0.94, 0.87, 1.  ]])"
      ]
     },
     "execution_count": 16,
     "metadata": {},
     "output_type": "execute_result"
    }
   ],
   "source": [
    "grey_corr_mat"
   ]
  },
  {
   "attachments": {},
   "cell_type": "markdown",
   "metadata": {},
   "source": [
    "### Mutual Information"
   ]
  },
  {
   "cell_type": "code",
   "execution_count": 17,
   "metadata": {},
   "outputs": [],
   "source": [
    "def entropy(a):\n",
    "    a_normal = a/np.sum(a)\n",
    "    a_normal = a_normal[np.nonzero(a_normal)]\n",
    "    H = -np.sum(a_normal*np.log2(a_normal))\n",
    "    return H"
   ]
  },
  {
   "cell_type": "code",
   "execution_count": 18,
   "metadata": {},
   "outputs": [],
   "source": [
    "def MI(x,i,j,bins):\n",
    "    a_ij = np.histogram2d(np.asarray(x)[:,i],np.asarray(x)[:,j],bins)[0]\n",
    "    a_i = np.histogram(np.asarray(x)[:,i],bins)[0]\n",
    "    a_j = np.histogram(np.asarray(x)[:,j],bins)[0]\n",
    "\n",
    "    Hi = entropy(a_i)\n",
    "    Hj = entropy(a_j)\n",
    "    Hij = entropy(a_ij)\n",
    "\n",
    "    I = Hi + Hj - Hij\n",
    "    NMI = (2*I)/(Hi+Hj)\n",
    "    return NMI\n"
   ]
  },
  {
   "cell_type": "code",
   "execution_count": 19,
   "metadata": {},
   "outputs": [],
   "source": [
    "NMI_mat = np.zeros((x.shape[1],x.shape[1]))\n",
    "for i in range(x.shape[1]):\n",
    "    for j in range(x.shape[1]):\n",
    "        NMI_mat[i,j] = MI(x,i,j,256) "
   ]
  },
  {
   "cell_type": "code",
   "execution_count": 20,
   "metadata": {},
   "outputs": [
    {
     "data": {
      "text/plain": [
       "array([[1.        , 0.87761183, 0.86494941, ..., 0.85932254, 0.86371198,\n",
       "        0.8719199 ],\n",
       "       [0.87761183, 1.        , 0.86729368, ..., 0.86735902, 0.86943223,\n",
       "        0.87422174],\n",
       "       [0.86494941, 0.86729368, 1.        , ..., 0.85332922, 0.86119367,\n",
       "        0.86265802],\n",
       "       ...,\n",
       "       [0.85932254, 0.86735902, 0.85332922, ..., 1.        , 0.85439611,\n",
       "        0.8581614 ],\n",
       "       [0.86371198, 0.86943223, 0.86119367, ..., 0.85439611, 1.        ,\n",
       "        0.86594922],\n",
       "       [0.8719199 , 0.87422174, 0.86265802, ..., 0.8581614 , 0.86594922,\n",
       "        1.        ]])"
      ]
     },
     "execution_count": 20,
     "metadata": {},
     "output_type": "execute_result"
    }
   ],
   "source": [
    "NMI_mat"
   ]
  },
  {
   "attachments": {},
   "cell_type": "markdown",
   "metadata": {},
   "source": [
    "### Network Formation"
   ]
  },
  {
   "cell_type": "code",
   "execution_count": 21,
   "metadata": {},
   "outputs": [],
   "source": [
    "#Creating the weight matrix after applying the threshold conditions\n",
    "def weight1(theta1, theta2, corr_mat):\n",
    "    weight_mat = np.multiply(((corr_mat>=theta2).astype(int) + (corr_mat<=theta1).astype(int)), corr_mat)\n",
    "    return weight_mat"
   ]
  },
  {
   "cell_type": "code",
   "execution_count": 22,
   "metadata": {},
   "outputs": [],
   "source": [
    "#Network formation from the weight matrix: edges with zero weight are not added\n",
    "def net(Symbols,weight_mat):\n",
    "    G_sub = nx.Graph()\n",
    "    G_sub.add_nodes_from(range(len(Symbols)))\n",
    "    for i in range(len(Symbols)):\n",
    "        for j in range(len(Symbols)):\n",
    "            if j!=i and weight_mat[i,j]!=0:\n",
    "                G_sub.add_edge(i,j, weight=weight_mat[i,j])\n",
    "    return G_sub"
   ]
  },
  {
   "cell_type": "code",
   "execution_count": 23,
   "metadata": {},
   "outputs": [],
   "source": [
    "# Drawing a network\n",
    "# pos = nx.spring_layout(G_sub)\n",
    "# nx.draw(G_sub,pos, with_labels=False, node_size = 25, width = 2)"
   ]
  },
  {
   "cell_type": "code",
   "execution_count": 24,
   "metadata": {},
   "outputs": [],
   "source": [
    "#Finding lower threshold for the correlation coefficient for the given correlation matrix\n",
    "# Higher threshold is assumed to be 0.7 as, correlation coeff.>0.7 indicates strong relationship\n",
    "def find_theta1(corr_mat):\n",
    "    theta1 = np.min(corr_mat)\n",
    "    while np.any(np.sum(((corr_mat>=0.7).astype(int) + (corr_mat<=theta1).astype(int)), axis = 0)<2):\n",
    "        theta1+= 0.01\n",
    "        #print(theta1)\n",
    "    return theta1"
   ]
  },
  {
   "attachments": {},
   "cell_type": "markdown",
   "metadata": {},
   "source": [
    "### Single layer networks"
   ]
  },
  {
   "attachments": {},
   "cell_type": "markdown",
   "metadata": {},
   "source": [
    "#### Pearson"
   ]
  },
  {
   "cell_type": "code",
   "execution_count": 25,
   "metadata": {},
   "outputs": [],
   "source": [
    "#Pearson\n",
    "t1_Pearson = find_theta1(corr_mat_pearson)\n",
    "w_pearson = weight1(t1_Pearson,0.7, corr_mat_pearson)\n",
    "G_pearson = net(Symbols, w_pearson)"
   ]
  },
  {
   "cell_type": "code",
   "execution_count": 26,
   "metadata": {},
   "outputs": [
    {
     "data": {
      "text/plain": [
       "True"
      ]
     },
     "execution_count": 26,
     "metadata": {},
     "output_type": "execute_result"
    }
   ],
   "source": [
    "#Checking connectedness\n",
    "connected_nodes = set([i for i in G_pearson.nodes if len(list(G_pearson.neighbors(i)))>0])\n",
    "len(connected_nodes) == len(Symbols)"
   ]
  },
  {
   "attachments": {},
   "cell_type": "markdown",
   "metadata": {},
   "source": [
    "#### Spearman"
   ]
  },
  {
   "cell_type": "code",
   "execution_count": 27,
   "metadata": {},
   "outputs": [],
   "source": [
    "#Spearman\n",
    "t1_Spearman = find_theta1(corr_mat_spearman)\n",
    "w_spearman = weight1(t1_Spearman,0.7, corr_mat_spearman)\n",
    "G_spearman = net(Symbols, w_spearman)"
   ]
  },
  {
   "cell_type": "code",
   "execution_count": 28,
   "metadata": {},
   "outputs": [
    {
     "data": {
      "text/plain": [
       "True"
      ]
     },
     "execution_count": 28,
     "metadata": {},
     "output_type": "execute_result"
    }
   ],
   "source": [
    "#Checking connectedness\n",
    "connected_nodes = set([i for i in G_spearman.nodes if len(list(G_spearman.neighbors(i)))>0])\n",
    "len(connected_nodes) == len(Symbols)"
   ]
  },
  {
   "attachments": {},
   "cell_type": "markdown",
   "metadata": {},
   "source": [
    "#### Kendall Tau"
   ]
  },
  {
   "cell_type": "code",
   "execution_count": 29,
   "metadata": {},
   "outputs": [],
   "source": [
    "#Kendall Tau\n",
    "t1_kt = find_theta1(corr_mat_kt)\n",
    "w_kt = weight1(t1_kt,0.7, corr_mat_kt)\n",
    "G_kt = net(Symbols, w_kt)"
   ]
  },
  {
   "cell_type": "code",
   "execution_count": 30,
   "metadata": {},
   "outputs": [
    {
     "data": {
      "text/plain": [
       "True"
      ]
     },
     "execution_count": 30,
     "metadata": {},
     "output_type": "execute_result"
    }
   ],
   "source": [
    "#Checking connectedness\n",
    "connected_nodes = set([i for i in G_kt.nodes if len(list(G_kt.neighbors(i)))>0])\n",
    "len(connected_nodes) == len(Symbols)"
   ]
  },
  {
   "attachments": {},
   "cell_type": "markdown",
   "metadata": {},
   "source": [
    "#### Grey relational"
   ]
  },
  {
   "cell_type": "code",
   "execution_count": 31,
   "metadata": {},
   "outputs": [],
   "source": [
    "# Grey relational\n",
    "t1_grey = find_theta1(grey_corr_mat)\n",
    "w_grey = weight1(t1_grey,0.7, grey_corr_mat)\n",
    "G_grey = net(Symbols, w_grey)"
   ]
  },
  {
   "cell_type": "code",
   "execution_count": 32,
   "metadata": {},
   "outputs": [
    {
     "data": {
      "text/plain": [
       "True"
      ]
     },
     "execution_count": 32,
     "metadata": {},
     "output_type": "execute_result"
    }
   ],
   "source": [
    "#Checking connectedness\n",
    "connected_nodes = set([i for i in G_grey.nodes if len(list(G_grey.neighbors(i)))>0])\n",
    "len(connected_nodes) == len(Symbols)"
   ]
  },
  {
   "attachments": {},
   "cell_type": "markdown",
   "metadata": {},
   "source": [
    "#### NMI"
   ]
  },
  {
   "cell_type": "code",
   "execution_count": 33,
   "metadata": {},
   "outputs": [],
   "source": [
    "# NMI\n",
    "t1_NMI = find_theta1(NMI_mat)\n",
    "w_NMI = weight1(t1_NMI,0.7, NMI_mat)\n",
    "G_NMI = net(Symbols, w_NMI)"
   ]
  },
  {
   "cell_type": "code",
   "execution_count": 34,
   "metadata": {},
   "outputs": [
    {
     "data": {
      "text/plain": [
       "True"
      ]
     },
     "execution_count": 34,
     "metadata": {},
     "output_type": "execute_result"
    }
   ],
   "source": [
    "#Checking connectedness\n",
    "connected_nodes = set([i for i in G_NMI.nodes if len(list(G_NMI.neighbors(i)))>0])\n",
    "len(connected_nodes) == len(Symbols)"
   ]
  },
  {
   "attachments": {},
   "cell_type": "markdown",
   "metadata": {},
   "source": [
    "### Multilayer Network"
   ]
  },
  {
   "cell_type": "code",
   "execution_count": 35,
   "metadata": {},
   "outputs": [],
   "source": [
    "inter_corr_mat = np.multiply(corr_mat_spearman, grey_corr_mat)\n",
    "final_corr_mat = np.multiply(inter_corr_mat, NMI_mat)"
   ]
  },
  {
   "cell_type": "code",
   "execution_count": 36,
   "metadata": {},
   "outputs": [
    {
     "data": {
      "text/plain": [
       "matrix([[ 1.        ,  0.40211894,  0.47728492, ...,  0.36932841,\n",
       "          0.1069667 ,  0.30435674],\n",
       "        [ 0.41864437,  1.        ,  0.34964827, ...,  0.49247905,\n",
       "          0.04033908,  0.39882543],\n",
       "        [ 0.47728492,  0.340447  ,  1.        , ...,  0.35615035,\n",
       "          0.00537526,  0.28962398],\n",
       "        ...,\n",
       "        [ 0.36932841,  0.48016707,  0.35615035, ...,  1.        ,\n",
       "         -0.04781919,  0.44319655],\n",
       "        [ 0.1069667 ,  0.03812872,  0.00537526, ..., -0.04727579,\n",
       "          1.        , -0.07615829],\n",
       "        [ 0.30435674,  0.38897789,  0.28650975, ...,  0.44319655,\n",
       "         -0.07615829,  1.        ]])"
      ]
     },
     "execution_count": 36,
     "metadata": {},
     "output_type": "execute_result"
    }
   ],
   "source": [
    "final_corr_mat"
   ]
  },
  {
   "cell_type": "code",
   "execution_count": 37,
   "metadata": {},
   "outputs": [
    {
     "data": {
      "text/plain": [
       "<Axes: >"
      ]
     },
     "execution_count": 37,
     "metadata": {},
     "output_type": "execute_result"
    },
    {
     "data": {
      "image/png": "[encoded data removed]",
      "text/plain": [
       "<Figure size 640x480 with 2 Axes>"
      ]
     },
     "metadata": {},
     "output_type": "display_data"
    }
   ],
   "source": [
    "sns.heatmap(final_corr_mat)"
   ]
  },
  {
   "cell_type": "code",
   "execution_count": 38,
   "metadata": {},
   "outputs": [
    {
     "data": {
      "image/png": "[encoded data removed]",
      "text/plain": [
       "<Figure size 640x480 with 1 Axes>"
      ]
     },
     "metadata": {},
     "output_type": "display_data"
    }
   ],
   "source": [
    "t1_multi = find_theta1(final_corr_mat)\n",
    "w_multi = weight1(t1_multi,0.7, final_corr_mat)\n",
    "G_multi = net(Symbols, w_multi)\n",
    "pos = nx.spring_layout(G_multi)\n",
    "nx.draw(G_multi,pos, with_labels=False, node_size = 25, width = 2)"
   ]
  },
  {
   "cell_type": "code",
   "execution_count": 39,
   "metadata": {},
   "outputs": [
    {
     "data": {
      "text/plain": [
       "True"
      ]
     },
     "execution_count": 39,
     "metadata": {},
     "output_type": "execute_result"
    }
   ],
   "source": [
    "#Checking connectedness\n",
    "connected_nodes = set([i for i in G_multi.nodes if len(list(G_multi.neighbors(i)))>0])\n",
    "len(connected_nodes) == len(Symbols)"
   ]
  },
  {
   "attachments": {},
   "cell_type": "markdown",
   "metadata": {},
   "source": [
    "### Random walk mechanism\n"
   ]
  },
  {
   "cell_type": "code",
   "execution_count": 40,
   "metadata": {},
   "outputs": [],
   "source": [
    "import random"
   ]
  },
  {
   "cell_type": "code",
   "execution_count": 41,
   "metadata": {},
   "outputs": [],
   "source": [
    "def trans_prob(w_mat, G):\n",
    "    P = np.zeros(w_mat.shape)\n",
    "    for i in range(len(Symbols)):\n",
    "        for j in G.neighbors(i):\n",
    "            P[i,j] = np.exp(w_mat[i,j])/np.sum([np.exp(w_mat[i,z]) for z in list(G.neighbors(i))])\n",
    "    if np.all(np.sum(P,axis=1)==1):\n",
    "        return P\n",
    "    else:\n",
    "        print('error')"
   ]
  },
  {
   "cell_type": "code",
   "execution_count": 42,
   "metadata": {},
   "outputs": [],
   "source": [
    "#Random walk algorithm\n",
    "# Let no. of q = 5\n",
    "def random_walk(G, weight_mat, n):\n",
    "    connected_nodes = set([i for i in G.nodes if len(list(G.neighbors(i)))>0])\n",
    "    V = np.zeros(len(Symbols))\n",
    "    P = np.zeros(weight_mat.shape)\n",
    "    for i in range(len(Symbols)):\n",
    "        for j in G.neighbors(i):\n",
    "            P[i,j] = np.exp(weight_mat[i,j])/np.sum([np.exp(weight_mat[i,z]) for z in list(G.neighbors(i))])\n",
    "\n",
    "    instance = random.choice(list(G.nodes))\n",
    "\n",
    "    while n>0:\n",
    "        next_node = random.choices(list(G.nodes),weights=[P[instance,i] for i in range(P.shape[1])])\n",
    "        \n",
    "        V[next_node] += 1\n",
    "        instance = next_node\n",
    "        n -= 1\n",
    "    \n",
    "    q = V.argsort()[::-1][:5]\n",
    "    v_int = [V[i] for i in q]\n",
    "    w = v_int/np.sum(v_int)\n",
    "    return V,q,w"
   ]
  },
  {
   "attachments": {},
   "cell_type": "markdown",
   "metadata": {},
   "source": [
    "#### Random walk on Pearson network"
   ]
  },
  {
   "cell_type": "code",
   "execution_count": 43,
   "metadata": {},
   "outputs": [],
   "source": [
    "# No. of iterations are set to be 10000\n",
    "V_pearson, q_pearson, weight_pearson = random_walk(G_pearson, w_pearson,10000)"
   ]
  },
  {
   "cell_type": "code",
   "execution_count": 44,
   "metadata": {},
   "outputs": [
    {
     "data": {
      "text/plain": [
       "['ATVI', 'KHC', 'XEL', 'AEP', 'GILD']"
      ]
     },
     "execution_count": 44,
     "metadata": {},
     "output_type": "execute_result"
    }
   ],
   "source": [
    "#Stocks in portfolio for pearson\n",
    "stocks_pearson = [Symbols[i] for i in q_pearson]\n",
    "stocks_pearson"
   ]
  },
  {
   "attachments": {},
   "cell_type": "markdown",
   "metadata": {},
   "source": [
    "#### Random walk on Spearman network"
   ]
  },
  {
   "cell_type": "code",
   "execution_count": 45,
   "metadata": {},
   "outputs": [],
   "source": [
    "V_spearman, q_spearman, weight_spearman = random_walk(G_spearman, w_spearman,10000)"
   ]
  },
  {
   "cell_type": "code",
   "execution_count": 46,
   "metadata": {},
   "outputs": [
    {
     "data": {
      "text/plain": [
       "['XEL', 'AEP', 'KHC', 'GILD', 'EXC']"
      ]
     },
     "execution_count": 46,
     "metadata": {},
     "output_type": "execute_result"
    }
   ],
   "source": [
    "#Stocks in portfolio for spearman\n",
    "stocks_spearman = [Symbols[i] for i in q_spearman]\n",
    "stocks_spearman"
   ]
  },
  {
   "attachments": {},
   "cell_type": "markdown",
   "metadata": {},
   "source": [
    "#### Random walk on Kendall Tau network"
   ]
  },
  {
   "cell_type": "code",
   "execution_count": 47,
   "metadata": {},
   "outputs": [],
   "source": [
    "V_kt, q_kt, weight_kt = random_walk(G_kt, w_kt,10000)"
   ]
  },
  {
   "cell_type": "code",
   "execution_count": 48,
   "metadata": {},
   "outputs": [
    {
     "data": {
      "text/plain": [
       "['AEP', 'GILD', 'XEL', 'KHC', 'EXC']"
      ]
     },
     "execution_count": 48,
     "metadata": {},
     "output_type": "execute_result"
    }
   ],
   "source": [
    "#Stocks in portfolio for kt\n",
    "stocks_kt = [Symbols[i] for i in q_kt]\n",
    "stocks_kt"
   ]
  },
  {
   "attachments": {},
   "cell_type": "markdown",
   "metadata": {},
   "source": [
    "#### Random walk on Grey relational network"
   ]
  },
  {
   "cell_type": "code",
   "execution_count": 49,
   "metadata": {},
   "outputs": [],
   "source": [
    "V_grey, q_grey, weight_grey = random_walk(G_grey, w_grey,10000)"
   ]
  },
  {
   "cell_type": "code",
   "execution_count": 50,
   "metadata": {},
   "outputs": [
    {
     "data": {
      "text/plain": [
       "['TMUS', 'BIDU', 'CDW', 'SPLK', 'AMGN']"
      ]
     },
     "execution_count": 50,
     "metadata": {},
     "output_type": "execute_result"
    }
   ],
   "source": [
    "#Stocks in portfolio for grey\n",
    "stocks_grey = [Symbols[i] for i in q_grey]\n",
    "stocks_grey"
   ]
  },
  {
   "attachments": {},
   "cell_type": "markdown",
   "metadata": {},
   "source": [
    "#### Random walk on NMI network"
   ]
  },
  {
   "cell_type": "code",
   "execution_count": 51,
   "metadata": {},
   "outputs": [],
   "source": [
    "V_NMI, q_NMI, weight_NMI = random_walk(G_NMI, w_NMI,10000)"
   ]
  },
  {
   "cell_type": "code",
   "execution_count": 52,
   "metadata": {},
   "outputs": [
    {
     "data": {
      "text/plain": [
       "['CPRT', 'AVGO', 'INTU', 'PEP', 'ASML']"
      ]
     },
     "execution_count": 52,
     "metadata": {},
     "output_type": "execute_result"
    }
   ],
   "source": [
    "#Stocks in portfolio for NMI\n",
    "stocks_NMI = [Symbols[i] for i in q_NMI]\n",
    "stocks_NMI"
   ]
  },
  {
   "attachments": {},
   "cell_type": "markdown",
   "metadata": {},
   "source": [
    "#### Random walk on multi-layer network"
   ]
  },
  {
   "cell_type": "code",
   "execution_count": 53,
   "metadata": {},
   "outputs": [],
   "source": [
    "V_multi, q_multi, weight_multi = random_walk(G_multi, w_multi,10000)"
   ]
  },
  {
   "cell_type": "code",
   "execution_count": 54,
   "metadata": {},
   "outputs": [
    {
     "data": {
      "text/plain": [
       "['BKNG', 'XEL', 'KHC', 'AEP', 'REGN']"
      ]
     },
     "execution_count": 54,
     "metadata": {},
     "output_type": "execute_result"
    }
   ],
   "source": [
    "#Stocks in portfolio for multi-layer network\n",
    "stocks_multi = [Symbols[i] for i in q_multi]\n",
    "stocks_multi"
   ]
  },
  {
   "cell_type": "code",
   "execution_count": 55,
   "metadata": {},
   "outputs": [],
   "source": [
    "ret = (df - df.shift(1))/df.shift(1)\n",
    "ret = ret.drop(0)\n",
    "ret_mat = np.matrix(ret)"
   ]
  },
  {
   "cell_type": "code",
   "execution_count": 56,
   "metadata": {},
   "outputs": [],
   "source": [
    "def sharpe_ratio(q,weight):\n",
    "    ret_arr = []\n",
    "    for i in range(ret_mat.shape[0]):\n",
    "        sum = 0\n",
    "        for j in range(len(q)):\n",
    "            sum += weight[j]*ret_mat[i,q[j]]\n",
    "        ret_arr.append(sum)\n",
    "    return (252**0.5)*(np.mean(ret_arr)/np.std(ret_arr))\n"
   ]
  },
  {
   "cell_type": "code",
   "execution_count": 57,
   "metadata": {},
   "outputs": [
    {
     "data": {
      "text/plain": [
       "0.023605292875841018"
      ]
     },
     "execution_count": 57,
     "metadata": {},
     "output_type": "execute_result"
    }
   ],
   "source": [
    "sr_pearson = sharpe_ratio(q_pearson, weight_pearson)\n",
    "sr_pearson"
   ]
  },
  {
   "cell_type": "code",
   "execution_count": 58,
   "metadata": {},
   "outputs": [
    {
     "data": {
      "text/plain": [
       "0.8436443979344064"
      ]
     },
     "execution_count": 58,
     "metadata": {},
     "output_type": "execute_result"
    }
   ],
   "source": [
    "sr_spearman = sharpe_ratio(q_spearman, weight_spearman)\n",
    "sr_spearman"
   ]
  },
  {
   "cell_type": "code",
   "execution_count": 59,
   "metadata": {},
   "outputs": [
    {
     "data": {
      "text/plain": [
       "0.8066606561111325"
      ]
     },
     "execution_count": 59,
     "metadata": {},
     "output_type": "execute_result"
    }
   ],
   "source": [
    "sr_kt = sharpe_ratio(q_kt, weight_kt)\n",
    "sr_kt"
   ]
  },
  {
   "cell_type": "code",
   "execution_count": 60,
   "metadata": {},
   "outputs": [
    {
     "data": {
      "text/plain": [
       "-0.0031731893778531644"
      ]
     },
     "execution_count": 60,
     "metadata": {},
     "output_type": "execute_result"
    }
   ],
   "source": [
    "sr_grey = sharpe_ratio(q_grey, weight_grey)\n",
    "sr_grey"
   ]
  },
  {
   "cell_type": "code",
   "execution_count": 61,
   "metadata": {},
   "outputs": [
    {
     "data": {
      "text/plain": [
       "0.9283158445309058"
      ]
     },
     "execution_count": 61,
     "metadata": {},
     "output_type": "execute_result"
    }
   ],
   "source": [
    "sr_NMI = sharpe_ratio(q_NMI, weight_NMI)\n",
    "sr_NMI"
   ]
  },
  {
   "cell_type": "code",
   "execution_count": 62,
   "metadata": {},
   "outputs": [
    {
     "data": {
      "text/plain": [
       "1.011867318720421"
      ]
     },
     "execution_count": 62,
     "metadata": {},
     "output_type": "execute_result"
    }
   ],
   "source": [
    "sr_multi = sharpe_ratio(q_multi, weight_multi)\n",
    "sr_multi"
   ]
  }
 ],
 "metadata": {
  "kernelspec": {
   "display_name": "Python 3",
   "language": "python",
   "name": "python3"
  },
  "language_info": {
   "codemirror_mode": {
    "name": "ipython",
    "version": 3
   },
   "file_extension": ".py",
   "mimetype": "text/x-python",
   "name": "python",
   "nbconvert_exporter": "python",
   "pygments_lexer": "ipython3",
   "version": "3.11.3"
  },
  "orig_nbformat": 4
 },
 "nbformat": 4,
 "nbformat_minor": 2
}
